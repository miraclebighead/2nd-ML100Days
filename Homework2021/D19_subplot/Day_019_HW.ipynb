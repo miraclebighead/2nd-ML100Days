{
 "cells": [
  {
   "cell_type": "markdown",
   "metadata": {},
   "source": [
    "## 作業\n",
    "### 請使用 application_train.csv, 根據不同的 HOUSETYPE_MODE 對 AMT_CREDIT 繪製 Histogram"
   ]
  },
  {
   "cell_type": "markdown",
   "metadata": {},
   "source": [
    "# [作業目標]\n",
    "- 試著調整資料, 並利用提供的程式繪製分布圖"
   ]
  },
  {
   "cell_type": "markdown",
   "metadata": {},
   "source": [
    "# [作業重點]\n",
    "- 如何將列出相異的 HOUSETYPE_MODE 類別 (In[3])\n",
    "- 如何依照不同的 HOUSETYPE_MODE 類別指定資料, 並繪製長條圖(.hist())? (In[3])"
   ]
  },
  {
   "cell_type": "code",
   "execution_count": 2,
   "metadata": {
    "collapsed": true
   },
   "outputs": [],
   "source": [
    "# 載入需要的套件\n",
    "import os\n",
    "import numpy as np\n",
    "import pandas as pd\n",
    "import matplotlib.pyplot as plt\n",
    "import seaborn as sns # 另一個繪圖-樣式套件\n",
    "\n",
    "# 忽略警告訊息\n",
    "%matplotlib inline\n",
    "plt.style.use('ggplot')\n",
    "import warnings\n",
    "warnings.filterwarnings('ignore')\n",
    "\n",
    "# 設定 data_path\n",
    "dir_data = '../data/'"
   ]
  },
  {
   "cell_type": "code",
   "execution_count": 3,
   "metadata": {},
   "outputs": [
    {
     "name": "stdout",
     "output_type": "stream",
     "text": [
      "Path of read in data: ../data/application_train.csv\n"
     ]
    },
    {
     "data": {
      "application/vnd.microsoft.datawrangler.viewer.v0+json": {
       "columns": [
        {
         "name": "index",
         "rawType": "int64",
         "type": "integer"
        },
        {
         "name": "SK_ID_CURR",
         "rawType": "int64",
         "type": "integer"
        },
        {
         "name": "TARGET",
         "rawType": "int64",
         "type": "integer"
        },
        {
         "name": "NAME_CONTRACT_TYPE",
         "rawType": "object",
         "type": "string"
        },
        {
         "name": "CODE_GENDER",
         "rawType": "object",
         "type": "string"
        },
        {
         "name": "FLAG_OWN_CAR",
         "rawType": "object",
         "type": "string"
        },
        {
         "name": "FLAG_OWN_REALTY",
         "rawType": "object",
         "type": "string"
        },
        {
         "name": "CNT_CHILDREN",
         "rawType": "int64",
         "type": "integer"
        },
        {
         "name": "AMT_INCOME_TOTAL",
         "rawType": "float64",
         "type": "float"
        },
        {
         "name": "AMT_CREDIT",
         "rawType": "float64",
         "type": "float"
        },
        {
         "name": "AMT_ANNUITY",
         "rawType": "float64",
         "type": "float"
        },
        {
         "name": "AMT_GOODS_PRICE",
         "rawType": "float64",
         "type": "float"
        },
        {
         "name": "NAME_TYPE_SUITE",
         "rawType": "object",
         "type": "string"
        },
        {
         "name": "NAME_INCOME_TYPE",
         "rawType": "object",
         "type": "string"
        },
        {
         "name": "NAME_EDUCATION_TYPE",
         "rawType": "object",
         "type": "string"
        },
        {
         "name": "NAME_FAMILY_STATUS",
         "rawType": "object",
         "type": "string"
        },
        {
         "name": "NAME_HOUSING_TYPE",
         "rawType": "object",
         "type": "string"
        },
        {
         "name": "REGION_POPULATION_RELATIVE",
         "rawType": "float64",
         "type": "float"
        },
        {
         "name": "DAYS_BIRTH",
         "rawType": "int64",
         "type": "integer"
        },
        {
         "name": "DAYS_EMPLOYED",
         "rawType": "int64",
         "type": "integer"
        },
        {
         "name": "DAYS_REGISTRATION",
         "rawType": "float64",
         "type": "float"
        },
        {
         "name": "DAYS_ID_PUBLISH",
         "rawType": "int64",
         "type": "integer"
        },
        {
         "name": "OWN_CAR_AGE",
         "rawType": "float64",
         "type": "float"
        },
        {
         "name": "FLAG_MOBIL",
         "rawType": "int64",
         "type": "integer"
        },
        {
         "name": "FLAG_EMP_PHONE",
         "rawType": "int64",
         "type": "integer"
        },
        {
         "name": "FLAG_WORK_PHONE",
         "rawType": "int64",
         "type": "integer"
        },
        {
         "name": "FLAG_CONT_MOBILE",
         "rawType": "int64",
         "type": "integer"
        },
        {
         "name": "FLAG_PHONE",
         "rawType": "int64",
         "type": "integer"
        },
        {
         "name": "FLAG_EMAIL",
         "rawType": "int64",
         "type": "integer"
        },
        {
         "name": "OCCUPATION_TYPE",
         "rawType": "object",
         "type": "string"
        },
        {
         "name": "CNT_FAM_MEMBERS",
         "rawType": "float64",
         "type": "float"
        },
        {
         "name": "REGION_RATING_CLIENT",
         "rawType": "int64",
         "type": "integer"
        },
        {
         "name": "REGION_RATING_CLIENT_W_CITY",
         "rawType": "int64",
         "type": "integer"
        },
        {
         "name": "WEEKDAY_APPR_PROCESS_START",
         "rawType": "object",
         "type": "string"
        },
        {
         "name": "HOUR_APPR_PROCESS_START",
         "rawType": "int64",
         "type": "integer"
        },
        {
         "name": "REG_REGION_NOT_LIVE_REGION",
         "rawType": "int64",
         "type": "integer"
        },
        {
         "name": "REG_REGION_NOT_WORK_REGION",
         "rawType": "int64",
         "type": "integer"
        },
        {
         "name": "LIVE_REGION_NOT_WORK_REGION",
         "rawType": "int64",
         "type": "integer"
        },
        {
         "name": "REG_CITY_NOT_LIVE_CITY",
         "rawType": "int64",
         "type": "integer"
        },
        {
         "name": "REG_CITY_NOT_WORK_CITY",
         "rawType": "int64",
         "type": "integer"
        },
        {
         "name": "LIVE_CITY_NOT_WORK_CITY",
         "rawType": "int64",
         "type": "integer"
        },
        {
         "name": "ORGANIZATION_TYPE",
         "rawType": "object",
         "type": "string"
        },
        {
         "name": "EXT_SOURCE_1",
         "rawType": "float64",
         "type": "float"
        },
        {
         "name": "EXT_SOURCE_2",
         "rawType": "float64",
         "type": "float"
        },
        {
         "name": "EXT_SOURCE_3",
         "rawType": "float64",
         "type": "float"
        },
        {
         "name": "APARTMENTS_AVG",
         "rawType": "float64",
         "type": "float"
        },
        {
         "name": "BASEMENTAREA_AVG",
         "rawType": "float64",
         "type": "float"
        },
        {
         "name": "YEARS_BEGINEXPLUATATION_AVG",
         "rawType": "float64",
         "type": "float"
        },
        {
         "name": "YEARS_BUILD_AVG",
         "rawType": "float64",
         "type": "float"
        },
        {
         "name": "COMMONAREA_AVG",
         "rawType": "float64",
         "type": "float"
        },
        {
         "name": "ELEVATORS_AVG",
         "rawType": "float64",
         "type": "float"
        },
        {
         "name": "ENTRANCES_AVG",
         "rawType": "float64",
         "type": "float"
        },
        {
         "name": "FLOORSMAX_AVG",
         "rawType": "float64",
         "type": "float"
        },
        {
         "name": "FLOORSMIN_AVG",
         "rawType": "float64",
         "type": "float"
        },
        {
         "name": "LANDAREA_AVG",
         "rawType": "float64",
         "type": "float"
        },
        {
         "name": "LIVINGAPARTMENTS_AVG",
         "rawType": "float64",
         "type": "float"
        },
        {
         "name": "LIVINGAREA_AVG",
         "rawType": "float64",
         "type": "float"
        },
        {
         "name": "NONLIVINGAPARTMENTS_AVG",
         "rawType": "float64",
         "type": "float"
        },
        {
         "name": "NONLIVINGAREA_AVG",
         "rawType": "float64",
         "type": "float"
        },
        {
         "name": "APARTMENTS_MODE",
         "rawType": "float64",
         "type": "float"
        },
        {
         "name": "BASEMENTAREA_MODE",
         "rawType": "float64",
         "type": "float"
        },
        {
         "name": "YEARS_BEGINEXPLUATATION_MODE",
         "rawType": "float64",
         "type": "float"
        },
        {
         "name": "YEARS_BUILD_MODE",
         "rawType": "float64",
         "type": "float"
        },
        {
         "name": "COMMONAREA_MODE",
         "rawType": "float64",
         "type": "float"
        },
        {
         "name": "ELEVATORS_MODE",
         "rawType": "float64",
         "type": "float"
        },
        {
         "name": "ENTRANCES_MODE",
         "rawType": "float64",
         "type": "float"
        },
        {
         "name": "FLOORSMAX_MODE",
         "rawType": "float64",
         "type": "float"
        },
        {
         "name": "FLOORSMIN_MODE",
         "rawType": "float64",
         "type": "float"
        },
        {
         "name": "LANDAREA_MODE",
         "rawType": "float64",
         "type": "float"
        },
        {
         "name": "LIVINGAPARTMENTS_MODE",
         "rawType": "float64",
         "type": "float"
        },
        {
         "name": "LIVINGAREA_MODE",
         "rawType": "float64",
         "type": "float"
        },
        {
         "name": "NONLIVINGAPARTMENTS_MODE",
         "rawType": "float64",
         "type": "float"
        },
        {
         "name": "NONLIVINGAREA_MODE",
         "rawType": "float64",
         "type": "float"
        },
        {
         "name": "APARTMENTS_MEDI",
         "rawType": "float64",
         "type": "float"
        },
        {
         "name": "BASEMENTAREA_MEDI",
         "rawType": "float64",
         "type": "float"
        },
        {
         "name": "YEARS_BEGINEXPLUATATION_MEDI",
         "rawType": "float64",
         "type": "float"
        },
        {
         "name": "YEARS_BUILD_MEDI",
         "rawType": "float64",
         "type": "float"
        },
        {
         "name": "COMMONAREA_MEDI",
         "rawType": "float64",
         "type": "float"
        },
        {
         "name": "ELEVATORS_MEDI",
         "rawType": "float64",
         "type": "float"
        },
        {
         "name": "ENTRANCES_MEDI",
         "rawType": "float64",
         "type": "float"
        },
        {
         "name": "FLOORSMAX_MEDI",
         "rawType": "float64",
         "type": "float"
        },
        {
         "name": "FLOORSMIN_MEDI",
         "rawType": "float64",
         "type": "float"
        },
        {
         "name": "LANDAREA_MEDI",
         "rawType": "float64",
         "type": "float"
        },
        {
         "name": "LIVINGAPARTMENTS_MEDI",
         "rawType": "float64",
         "type": "float"
        },
        {
         "name": "LIVINGAREA_MEDI",
         "rawType": "float64",
         "type": "float"
        },
        {
         "name": "NONLIVINGAPARTMENTS_MEDI",
         "rawType": "float64",
         "type": "float"
        },
        {
         "name": "NONLIVINGAREA_MEDI",
         "rawType": "float64",
         "type": "float"
        },
        {
         "name": "FONDKAPREMONT_MODE",
         "rawType": "object",
         "type": "unknown"
        },
        {
         "name": "HOUSETYPE_MODE",
         "rawType": "object",
         "type": "unknown"
        },
        {
         "name": "TOTALAREA_MODE",
         "rawType": "float64",
         "type": "float"
        },
        {
         "name": "WALLSMATERIAL_MODE",
         "rawType": "object",
         "type": "unknown"
        },
        {
         "name": "EMERGENCYSTATE_MODE",
         "rawType": "object",
         "type": "unknown"
        },
        {
         "name": "OBS_30_CNT_SOCIAL_CIRCLE",
         "rawType": "float64",
         "type": "float"
        },
        {
         "name": "DEF_30_CNT_SOCIAL_CIRCLE",
         "rawType": "float64",
         "type": "float"
        },
        {
         "name": "OBS_60_CNT_SOCIAL_CIRCLE",
         "rawType": "float64",
         "type": "float"
        },
        {
         "name": "DEF_60_CNT_SOCIAL_CIRCLE",
         "rawType": "float64",
         "type": "float"
        },
        {
         "name": "DAYS_LAST_PHONE_CHANGE",
         "rawType": "float64",
         "type": "float"
        },
        {
         "name": "FLAG_DOCUMENT_2",
         "rawType": "int64",
         "type": "integer"
        },
        {
         "name": "FLAG_DOCUMENT_3",
         "rawType": "int64",
         "type": "integer"
        },
        {
         "name": "FLAG_DOCUMENT_4",
         "rawType": "int64",
         "type": "integer"
        },
        {
         "name": "FLAG_DOCUMENT_5",
         "rawType": "int64",
         "type": "integer"
        },
        {
         "name": "FLAG_DOCUMENT_6",
         "rawType": "int64",
         "type": "integer"
        },
        {
         "name": "FLAG_DOCUMENT_7",
         "rawType": "int64",
         "type": "integer"
        },
        {
         "name": "FLAG_DOCUMENT_8",
         "rawType": "int64",
         "type": "integer"
        },
        {
         "name": "FLAG_DOCUMENT_9",
         "rawType": "int64",
         "type": "integer"
        },
        {
         "name": "FLAG_DOCUMENT_10",
         "rawType": "int64",
         "type": "integer"
        },
        {
         "name": "FLAG_DOCUMENT_11",
         "rawType": "int64",
         "type": "integer"
        },
        {
         "name": "FLAG_DOCUMENT_12",
         "rawType": "int64",
         "type": "integer"
        },
        {
         "name": "FLAG_DOCUMENT_13",
         "rawType": "int64",
         "type": "integer"
        },
        {
         "name": "FLAG_DOCUMENT_14",
         "rawType": "int64",
         "type": "integer"
        },
        {
         "name": "FLAG_DOCUMENT_15",
         "rawType": "int64",
         "type": "integer"
        },
        {
         "name": "FLAG_DOCUMENT_16",
         "rawType": "int64",
         "type": "integer"
        },
        {
         "name": "FLAG_DOCUMENT_17",
         "rawType": "int64",
         "type": "integer"
        },
        {
         "name": "FLAG_DOCUMENT_18",
         "rawType": "int64",
         "type": "integer"
        },
        {
         "name": "FLAG_DOCUMENT_19",
         "rawType": "int64",
         "type": "integer"
        },
        {
         "name": "FLAG_DOCUMENT_20",
         "rawType": "int64",
         "type": "integer"
        },
        {
         "name": "FLAG_DOCUMENT_21",
         "rawType": "int64",
         "type": "integer"
        },
        {
         "name": "AMT_REQ_CREDIT_BUREAU_HOUR",
         "rawType": "float64",
         "type": "float"
        },
        {
         "name": "AMT_REQ_CREDIT_BUREAU_DAY",
         "rawType": "float64",
         "type": "float"
        },
        {
         "name": "AMT_REQ_CREDIT_BUREAU_WEEK",
         "rawType": "float64",
         "type": "float"
        },
        {
         "name": "AMT_REQ_CREDIT_BUREAU_MON",
         "rawType": "float64",
         "type": "float"
        },
        {
         "name": "AMT_REQ_CREDIT_BUREAU_QRT",
         "rawType": "float64",
         "type": "float"
        },
        {
         "name": "AMT_REQ_CREDIT_BUREAU_YEAR",
         "rawType": "float64",
         "type": "float"
        }
       ],
       "conversionMethod": "pd.DataFrame",
       "ref": "063563b0-a561-48df-9fc5-35e1f8bcd09f",
       "rows": [
        [
         "0",
         "100002",
         "1",
         "Cash loans",
         "M",
         "N",
         "Y",
         "0",
         "202500.0",
         "406597.5",
         "24700.5",
         "351000.0",
         "Unaccompanied",
         "Working",
         "Secondary / secondary special",
         "Single / not married",
         "House / apartment",
         "0.018801",
         "-9461",
         "-637",
         "-3648.0",
         "-2120",
         null,
         "1",
         "1",
         "0",
         "1",
         "1",
         "0",
         "Laborers",
         "1.0",
         "2",
         "2",
         "WEDNESDAY",
         "10",
         "0",
         "0",
         "0",
         "0",
         "0",
         "0",
         "Business Entity Type 3",
         "0.0830369673913225",
         "0.2629485927471776",
         "0.1393757800997895",
         "0.0247",
         "0.0369",
         "0.9722",
         "0.6192",
         "0.0143",
         "0.0",
         "0.069",
         "0.0833",
         "0.125",
         "0.0369",
         "0.0202",
         "0.019",
         "0.0",
         "0.0",
         "0.0252",
         "0.0383",
         "0.9722",
         "0.6341",
         "0.0144",
         "0.0",
         "0.069",
         "0.0833",
         "0.125",
         "0.0377",
         "0.022",
         "0.0198",
         "0.0",
         "0.0",
         "0.025",
         "0.0369",
         "0.9722",
         "0.6243",
         "0.0144",
         "0.0",
         "0.069",
         "0.0833",
         "0.125",
         "0.0375",
         "0.0205",
         "0.0193",
         "0.0",
         "0.0",
         "reg oper account",
         "block of flats",
         "0.0149",
         "Stone, brick",
         "No",
         "2.0",
         "2.0",
         "2.0",
         "2.0",
         "-1134.0",
         "0",
         "1",
         "0",
         "0",
         "0",
         "0",
         "0",
         "0",
         "0",
         "0",
         "0",
         "0",
         "0",
         "0",
         "0",
         "0",
         "0",
         "0",
         "0",
         "0",
         "0.0",
         "0.0",
         "0.0",
         "0.0",
         "0.0",
         "1.0"
        ],
        [
         "1",
         "100003",
         "0",
         "Cash loans",
         "F",
         "N",
         "N",
         "0",
         "270000.0",
         "1293502.5",
         "35698.5",
         "1129500.0",
         "Family",
         "State servant",
         "Higher education",
         "Married",
         "House / apartment",
         "0.0035409999999999",
         "-16765",
         "-1188",
         "-1186.0",
         "-291",
         null,
         "1",
         "1",
         "0",
         "1",
         "1",
         "0",
         "Core staff",
         "2.0",
         "1",
         "1",
         "MONDAY",
         "11",
         "0",
         "0",
         "0",
         "0",
         "0",
         "0",
         "School",
         "0.3112673113812225",
         "0.6222457752555098",
         null,
         "0.0959",
         "0.0529",
         "0.9851",
         "0.7959999999999999",
         "0.0605",
         "0.08",
         "0.0345",
         "0.2917",
         "0.3333",
         "0.013",
         "0.0773",
         "0.0549",
         "0.0039",
         "0.0098",
         "0.0924",
         "0.0538",
         "0.9851",
         "0.804",
         "0.0497",
         "0.0806",
         "0.0345",
         "0.2917",
         "0.3333",
         "0.0128",
         "0.079",
         "0.0554",
         "0.0",
         "0.0",
         "0.0968",
         "0.0529",
         "0.9851",
         "0.7987",
         "0.0608",
         "0.08",
         "0.0345",
         "0.2917",
         "0.3333",
         "0.0132",
         "0.0787",
         "0.0558",
         "0.0039",
         "0.01",
         "reg oper account",
         "block of flats",
         "0.0714",
         "Block",
         "No",
         "1.0",
         "0.0",
         "1.0",
         "0.0",
         "-828.0",
         "0",
         "1",
         "0",
         "0",
         "0",
         "0",
         "0",
         "0",
         "0",
         "0",
         "0",
         "0",
         "0",
         "0",
         "0",
         "0",
         "0",
         "0",
         "0",
         "0",
         "0.0",
         "0.0",
         "0.0",
         "0.0",
         "0.0",
         "0.0"
        ],
        [
         "2",
         "100004",
         "0",
         "Revolving loans",
         "M",
         "Y",
         "Y",
         "0",
         "67500.0",
         "135000.0",
         "6750.0",
         "135000.0",
         "Unaccompanied",
         "Working",
         "Secondary / secondary special",
         "Single / not married",
         "House / apartment",
         "0.010032",
         "-19046",
         "-225",
         "-4260.0",
         "-2531",
         "26.0",
         "1",
         "1",
         "1",
         "1",
         "1",
         "0",
         "Laborers",
         "1.0",
         "2",
         "2",
         "MONDAY",
         "9",
         "0",
         "0",
         "0",
         "0",
         "0",
         "0",
         "Government",
         null,
         "0.5559120833904428",
         "0.7295666907060153",
         null,
         null,
         null,
         null,
         null,
         null,
         null,
         null,
         null,
         null,
         null,
         null,
         null,
         null,
         null,
         null,
         null,
         null,
         null,
         null,
         null,
         null,
         null,
         null,
         null,
         null,
         null,
         null,
         null,
         null,
         null,
         null,
         null,
         null,
         null,
         null,
         null,
         null,
         null,
         null,
         null,
         null,
         null,
         null,
         null,
         null,
         null,
         "0.0",
         "0.0",
         "0.0",
         "0.0",
         "-815.0",
         "0",
         "0",
         "0",
         "0",
         "0",
         "0",
         "0",
         "0",
         "0",
         "0",
         "0",
         "0",
         "0",
         "0",
         "0",
         "0",
         "0",
         "0",
         "0",
         "0",
         "0.0",
         "0.0",
         "0.0",
         "0.0",
         "0.0",
         "0.0"
        ],
        [
         "3",
         "100006",
         "0",
         "Cash loans",
         "F",
         "N",
         "Y",
         "0",
         "135000.0",
         "312682.5",
         "29686.5",
         "297000.0",
         "Unaccompanied",
         "Working",
         "Secondary / secondary special",
         "Civil marriage",
         "House / apartment",
         "0.008019",
         "-19005",
         "-3039",
         "-9833.0",
         "-2437",
         null,
         "1",
         "1",
         "0",
         "1",
         "0",
         "0",
         "Laborers",
         "2.0",
         "2",
         "2",
         "WEDNESDAY",
         "17",
         "0",
         "0",
         "0",
         "0",
         "0",
         "0",
         "Business Entity Type 3",
         null,
         "0.6504416904014653",
         null,
         null,
         null,
         null,
         null,
         null,
         null,
         null,
         null,
         null,
         null,
         null,
         null,
         null,
         null,
         null,
         null,
         null,
         null,
         null,
         null,
         null,
         null,
         null,
         null,
         null,
         null,
         null,
         null,
         null,
         null,
         null,
         null,
         null,
         null,
         null,
         null,
         null,
         null,
         null,
         null,
         null,
         null,
         null,
         null,
         null,
         null,
         null,
         "2.0",
         "0.0",
         "2.0",
         "0.0",
         "-617.0",
         "0",
         "1",
         "0",
         "0",
         "0",
         "0",
         "0",
         "0",
         "0",
         "0",
         "0",
         "0",
         "0",
         "0",
         "0",
         "0",
         "0",
         "0",
         "0",
         "0",
         null,
         null,
         null,
         null,
         null,
         null
        ],
        [
         "4",
         "100007",
         "0",
         "Cash loans",
         "M",
         "N",
         "Y",
         "0",
         "121500.0",
         "513000.0",
         "21865.5",
         "513000.0",
         "Unaccompanied",
         "Working",
         "Secondary / secondary special",
         "Single / not married",
         "House / apartment",
         "0.028663",
         "-19932",
         "-3038",
         "-4311.0",
         "-3458",
         null,
         "1",
         "1",
         "0",
         "1",
         "0",
         "0",
         "Core staff",
         "1.0",
         "2",
         "2",
         "THURSDAY",
         "11",
         "0",
         "0",
         "0",
         "0",
         "1",
         "1",
         "Religion",
         null,
         "0.3227382869704046",
         null,
         null,
         null,
         null,
         null,
         null,
         null,
         null,
         null,
         null,
         null,
         null,
         null,
         null,
         null,
         null,
         null,
         null,
         null,
         null,
         null,
         null,
         null,
         null,
         null,
         null,
         null,
         null,
         null,
         null,
         null,
         null,
         null,
         null,
         null,
         null,
         null,
         null,
         null,
         null,
         null,
         null,
         null,
         null,
         null,
         null,
         null,
         null,
         "0.0",
         "0.0",
         "0.0",
         "0.0",
         "-1106.0",
         "0",
         "0",
         "0",
         "0",
         "0",
         "0",
         "1",
         "0",
         "0",
         "0",
         "0",
         "0",
         "0",
         "0",
         "0",
         "0",
         "0",
         "0",
         "0",
         "0",
         "0.0",
         "0.0",
         "0.0",
         "0.0",
         "0.0",
         "0.0"
        ]
       ],
       "shape": {
        "columns": 122,
        "rows": 5
       }
      },
      "text/html": [
       "<div>\n",
       "<style scoped>\n",
       "    .dataframe tbody tr th:only-of-type {\n",
       "        vertical-align: middle;\n",
       "    }\n",
       "\n",
       "    .dataframe tbody tr th {\n",
       "        vertical-align: top;\n",
       "    }\n",
       "\n",
       "    .dataframe thead th {\n",
       "        text-align: right;\n",
       "    }\n",
       "</style>\n",
       "<table border=\"1\" class=\"dataframe\">\n",
       "  <thead>\n",
       "    <tr style=\"text-align: right;\">\n",
       "      <th></th>\n",
       "      <th>SK_ID_CURR</th>\n",
       "      <th>TARGET</th>\n",
       "      <th>NAME_CONTRACT_TYPE</th>\n",
       "      <th>CODE_GENDER</th>\n",
       "      <th>FLAG_OWN_CAR</th>\n",
       "      <th>FLAG_OWN_REALTY</th>\n",
       "      <th>CNT_CHILDREN</th>\n",
       "      <th>AMT_INCOME_TOTAL</th>\n",
       "      <th>AMT_CREDIT</th>\n",
       "      <th>AMT_ANNUITY</th>\n",
       "      <th>...</th>\n",
       "      <th>FLAG_DOCUMENT_18</th>\n",
       "      <th>FLAG_DOCUMENT_19</th>\n",
       "      <th>FLAG_DOCUMENT_20</th>\n",
       "      <th>FLAG_DOCUMENT_21</th>\n",
       "      <th>AMT_REQ_CREDIT_BUREAU_HOUR</th>\n",
       "      <th>AMT_REQ_CREDIT_BUREAU_DAY</th>\n",
       "      <th>AMT_REQ_CREDIT_BUREAU_WEEK</th>\n",
       "      <th>AMT_REQ_CREDIT_BUREAU_MON</th>\n",
       "      <th>AMT_REQ_CREDIT_BUREAU_QRT</th>\n",
       "      <th>AMT_REQ_CREDIT_BUREAU_YEAR</th>\n",
       "    </tr>\n",
       "  </thead>\n",
       "  <tbody>\n",
       "    <tr>\n",
       "      <th>0</th>\n",
       "      <td>100002</td>\n",
       "      <td>1</td>\n",
       "      <td>Cash loans</td>\n",
       "      <td>M</td>\n",
       "      <td>N</td>\n",
       "      <td>Y</td>\n",
       "      <td>0</td>\n",
       "      <td>202500.0</td>\n",
       "      <td>406597.5</td>\n",
       "      <td>24700.5</td>\n",
       "      <td>...</td>\n",
       "      <td>0</td>\n",
       "      <td>0</td>\n",
       "      <td>0</td>\n",
       "      <td>0</td>\n",
       "      <td>0.0</td>\n",
       "      <td>0.0</td>\n",
       "      <td>0.0</td>\n",
       "      <td>0.0</td>\n",
       "      <td>0.0</td>\n",
       "      <td>1.0</td>\n",
       "    </tr>\n",
       "    <tr>\n",
       "      <th>1</th>\n",
       "      <td>100003</td>\n",
       "      <td>0</td>\n",
       "      <td>Cash loans</td>\n",
       "      <td>F</td>\n",
       "      <td>N</td>\n",
       "      <td>N</td>\n",
       "      <td>0</td>\n",
       "      <td>270000.0</td>\n",
       "      <td>1293502.5</td>\n",
       "      <td>35698.5</td>\n",
       "      <td>...</td>\n",
       "      <td>0</td>\n",
       "      <td>0</td>\n",
       "      <td>0</td>\n",
       "      <td>0</td>\n",
       "      <td>0.0</td>\n",
       "      <td>0.0</td>\n",
       "      <td>0.0</td>\n",
       "      <td>0.0</td>\n",
       "      <td>0.0</td>\n",
       "      <td>0.0</td>\n",
       "    </tr>\n",
       "    <tr>\n",
       "      <th>2</th>\n",
       "      <td>100004</td>\n",
       "      <td>0</td>\n",
       "      <td>Revolving loans</td>\n",
       "      <td>M</td>\n",
       "      <td>Y</td>\n",
       "      <td>Y</td>\n",
       "      <td>0</td>\n",
       "      <td>67500.0</td>\n",
       "      <td>135000.0</td>\n",
       "      <td>6750.0</td>\n",
       "      <td>...</td>\n",
       "      <td>0</td>\n",
       "      <td>0</td>\n",
       "      <td>0</td>\n",
       "      <td>0</td>\n",
       "      <td>0.0</td>\n",
       "      <td>0.0</td>\n",
       "      <td>0.0</td>\n",
       "      <td>0.0</td>\n",
       "      <td>0.0</td>\n",
       "      <td>0.0</td>\n",
       "    </tr>\n",
       "    <tr>\n",
       "      <th>3</th>\n",
       "      <td>100006</td>\n",
       "      <td>0</td>\n",
       "      <td>Cash loans</td>\n",
       "      <td>F</td>\n",
       "      <td>N</td>\n",
       "      <td>Y</td>\n",
       "      <td>0</td>\n",
       "      <td>135000.0</td>\n",
       "      <td>312682.5</td>\n",
       "      <td>29686.5</td>\n",
       "      <td>...</td>\n",
       "      <td>0</td>\n",
       "      <td>0</td>\n",
       "      <td>0</td>\n",
       "      <td>0</td>\n",
       "      <td>NaN</td>\n",
       "      <td>NaN</td>\n",
       "      <td>NaN</td>\n",
       "      <td>NaN</td>\n",
       "      <td>NaN</td>\n",
       "      <td>NaN</td>\n",
       "    </tr>\n",
       "    <tr>\n",
       "      <th>4</th>\n",
       "      <td>100007</td>\n",
       "      <td>0</td>\n",
       "      <td>Cash loans</td>\n",
       "      <td>M</td>\n",
       "      <td>N</td>\n",
       "      <td>Y</td>\n",
       "      <td>0</td>\n",
       "      <td>121500.0</td>\n",
       "      <td>513000.0</td>\n",
       "      <td>21865.5</td>\n",
       "      <td>...</td>\n",
       "      <td>0</td>\n",
       "      <td>0</td>\n",
       "      <td>0</td>\n",
       "      <td>0</td>\n",
       "      <td>0.0</td>\n",
       "      <td>0.0</td>\n",
       "      <td>0.0</td>\n",
       "      <td>0.0</td>\n",
       "      <td>0.0</td>\n",
       "      <td>0.0</td>\n",
       "    </tr>\n",
       "  </tbody>\n",
       "</table>\n",
       "<p>5 rows × 122 columns</p>\n",
       "</div>"
      ],
      "text/plain": [
       "   SK_ID_CURR  TARGET NAME_CONTRACT_TYPE CODE_GENDER FLAG_OWN_CAR  \\\n",
       "0      100002       1         Cash loans           M            N   \n",
       "1      100003       0         Cash loans           F            N   \n",
       "2      100004       0    Revolving loans           M            Y   \n",
       "3      100006       0         Cash loans           F            N   \n",
       "4      100007       0         Cash loans           M            N   \n",
       "\n",
       "  FLAG_OWN_REALTY  CNT_CHILDREN  AMT_INCOME_TOTAL  AMT_CREDIT  AMT_ANNUITY  \\\n",
       "0               Y             0          202500.0    406597.5      24700.5   \n",
       "1               N             0          270000.0   1293502.5      35698.5   \n",
       "2               Y             0           67500.0    135000.0       6750.0   \n",
       "3               Y             0          135000.0    312682.5      29686.5   \n",
       "4               Y             0          121500.0    513000.0      21865.5   \n",
       "\n",
       "   ...  FLAG_DOCUMENT_18 FLAG_DOCUMENT_19 FLAG_DOCUMENT_20 FLAG_DOCUMENT_21  \\\n",
       "0  ...                 0                0                0                0   \n",
       "1  ...                 0                0                0                0   \n",
       "2  ...                 0                0                0                0   \n",
       "3  ...                 0                0                0                0   \n",
       "4  ...                 0                0                0                0   \n",
       "\n",
       "  AMT_REQ_CREDIT_BUREAU_HOUR AMT_REQ_CREDIT_BUREAU_DAY  \\\n",
       "0                        0.0                       0.0   \n",
       "1                        0.0                       0.0   \n",
       "2                        0.0                       0.0   \n",
       "3                        NaN                       NaN   \n",
       "4                        0.0                       0.0   \n",
       "\n",
       "   AMT_REQ_CREDIT_BUREAU_WEEK  AMT_REQ_CREDIT_BUREAU_MON  \\\n",
       "0                         0.0                        0.0   \n",
       "1                         0.0                        0.0   \n",
       "2                         0.0                        0.0   \n",
       "3                         NaN                        NaN   \n",
       "4                         0.0                        0.0   \n",
       "\n",
       "   AMT_REQ_CREDIT_BUREAU_QRT  AMT_REQ_CREDIT_BUREAU_YEAR  \n",
       "0                        0.0                         1.0  \n",
       "1                        0.0                         0.0  \n",
       "2                        0.0                         0.0  \n",
       "3                        NaN                         NaN  \n",
       "4                        0.0                         0.0  \n",
       "\n",
       "[5 rows x 122 columns]"
      ]
     },
     "execution_count": 3,
     "metadata": {},
     "output_type": "execute_result"
    }
   ],
   "source": [
    "# 讀取檔案\n",
    "f_app = os.path.join(dir_data, 'application_train.csv')\n",
    "print('Path of read in data: %s' % (f_app))\n",
    "app_train = pd.read_csv(f_app)\n",
    "app_train.head()"
   ]
  },
  {
   "cell_type": "code",
   "execution_count": 4,
   "metadata": {},
   "outputs": [
    {
     "data": {
      "text/plain": [
       "array(['block of flats', nan, 'terraced house', 'specific housing'],\n",
       "      dtype=object)"
      ]
     },
     "execution_count": 4,
     "metadata": {},
     "output_type": "execute_result"
    }
   ],
   "source": [
    "app_train['HOUSETYPE_MODE'].unique()"
   ]
  },
  {
   "cell_type": "code",
   "execution_count": 7,
   "metadata": {
    "collapsed": true
   },
   "outputs": [
    {
     "data": {
      "image/png": "[encoded data removed]",
      "text/plain": [
       "<Figure size 1000x2000 with 4 Axes>"
      ]
     },
     "metadata": {},
     "output_type": "display_data"
    }
   ],
   "source": [
    "# 使用不同的 HOUSETYPE_MODE 類別繪製圖形, 並使用 subplot 排版\n",
    "\"\"\"\n",
    "Your Code Here\n",
    "\"\"\"\n",
    "unique_house_type = app_train['HOUSETYPE_MODE'].unique()\n",
    "\n",
    "nrows = len(unique_house_type)\n",
    "ncols = nrows // 2\n",
    "\n",
    "plt.figure(figsize=(10,20))\n",
    "for i in range(len(unique_house_type)):\n",
    "    plt.subplot(nrows, ncols, i+1)\n",
    "    \"\"\"\n",
    "    Your Code Here\n",
    "    \"\"\"\n",
    "    app_train.loc[app_train['HOUSETYPE_MODE'] == unique_house_type[i], 'AMT_CREDIT'].hist()\n",
    "    \n",
    "    plt.title(str(unique_house_type[i]))\n",
    "plt.tight_layout() # 避免子圖重疊\n",
    "plt.show()    "
   ]
  },
  {
   "cell_type": "code",
   "execution_count": null,
   "metadata": {},
   "outputs": [],
   "source": []
  }
 ],
 "metadata": {
  "anaconda-cloud": {},
  "kernelspec": {
   "display_name": ".venv",
   "language": "python",
   "name": "python3"
  },
  "language_info": {
   "codemirror_mode": {
    "name": "ipython",
    "version": 3
   },
   "file_extension": ".py",
   "mimetype": "text/x-python",
   "name": "python",
   "nbconvert_exporter": "python",
   "pygments_lexer": "ipython3",
   "version": "3.8.3"
  }
 },
 "nbformat": 4,
 "nbformat_minor": 1
}
