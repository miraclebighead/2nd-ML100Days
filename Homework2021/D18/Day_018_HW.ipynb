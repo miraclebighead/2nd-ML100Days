{
 "cells": [
  {
   "cell_type": "markdown",
   "metadata": {
    "collapsed": true
   },
   "source": [
    "# [作業目標]\n",
    "- 使用 Day 17 剛學到的方法, 對較完整的資料生成離散化特徵\n",
    "- 觀察上述離散化特徵, 對於目標值的預測有沒有幫助"
   ]
  },
  {
   "cell_type": "markdown",
   "metadata": {
    "collapsed": true
   },
   "source": [
    "# [作業重點]\n",
    "- 仿照 Day 17 的語法, 將年齡資料 ('DAYS_BIRTH' 除以 365) 離散化\n",
    "- 繪製上述的 \"離散化標籤\" 與目標值 ('TARGET') 的長條圖"
   ]
  },
  {
   "cell_type": "code",
   "execution_count": 6,
   "metadata": {
    "collapsed": true
   },
   "outputs": [],
   "source": [
    "# 載入需要的套件\n",
    "import os\n",
    "import numpy as np\n",
    "import pandas as pd\n",
    "import matplotlib.pyplot as plt\n",
    "%matplotlib inline\n",
    "\n",
    "# 設定 data_path\n",
    "dir_data = './data/'"
   ]
  },
  {
   "cell_type": "markdown",
   "metadata": {},
   "source": [
    "### 之前做過的處理"
   ]
  },
  {
   "cell_type": "code",
   "execution_count": 7,
   "metadata": {},
   "outputs": [
    {
     "data": {
      "text/plain": [
       "(307511, 122)"
      ]
     },
     "execution_count": 7,
     "metadata": {},
     "output_type": "execute_result"
    }
   ],
   "source": [
    "# 讀取資料檔\n",
    "f_app_train = os.path.join(dir_data, 'application_train.csv')\n",
    "app_train = pd.read_csv(f_app_train)\n",
    "app_train.shape"
   ]
  },
  {
   "cell_type": "code",
   "execution_count": 8,
   "metadata": {},
   "outputs": [
    {
     "name": "stdout",
     "output_type": "stream",
     "text": [
      "(307511, 122)\n"
     ]
    },
    {
     "data": {
      "application/vnd.microsoft.datawrangler.viewer.v0+json": {
       "columns": [
        {
         "name": "index",
         "rawType": "int64",
         "type": "integer"
        },
        {
         "name": "SK_ID_CURR",
         "rawType": "int64",
         "type": "integer"
        },
        {
         "name": "TARGET",
         "rawType": "int64",
         "type": "integer"
        },
        {
         "name": "NAME_CONTRACT_TYPE",
         "rawType": "int64",
         "type": "integer"
        },
        {
         "name": "CODE_GENDER",
         "rawType": "object",
         "type": "string"
        },
        {
         "name": "FLAG_OWN_CAR",
         "rawType": "int64",
         "type": "integer"
        },
        {
         "name": "FLAG_OWN_REALTY",
         "rawType": "int64",
         "type": "integer"
        },
        {
         "name": "CNT_CHILDREN",
         "rawType": "int64",
         "type": "integer"
        },
        {
         "name": "AMT_INCOME_TOTAL",
         "rawType": "float64",
         "type": "float"
        },
        {
         "name": "AMT_CREDIT",
         "rawType": "float64",
         "type": "float"
        },
        {
         "name": "AMT_ANNUITY",
         "rawType": "float64",
         "type": "float"
        },
        {
         "name": "AMT_GOODS_PRICE",
         "rawType": "float64",
         "type": "float"
        },
        {
         "name": "NAME_TYPE_SUITE",
         "rawType": "object",
         "type": "string"
        },
        {
         "name": "NAME_INCOME_TYPE",
         "rawType": "object",
         "type": "string"
        },
        {
         "name": "NAME_EDUCATION_TYPE",
         "rawType": "object",
         "type": "string"
        },
        {
         "name": "NAME_FAMILY_STATUS",
         "rawType": "object",
         "type": "string"
        },
        {
         "name": "NAME_HOUSING_TYPE",
         "rawType": "object",
         "type": "string"
        },
        {
         "name": "REGION_POPULATION_RELATIVE",
         "rawType": "float64",
         "type": "float"
        },
        {
         "name": "DAYS_BIRTH",
         "rawType": "int64",
         "type": "integer"
        },
        {
         "name": "DAYS_EMPLOYED",
         "rawType": "int64",
         "type": "integer"
        },
        {
         "name": "DAYS_REGISTRATION",
         "rawType": "float64",
         "type": "float"
        },
        {
         "name": "DAYS_ID_PUBLISH",
         "rawType": "int64",
         "type": "integer"
        },
        {
         "name": "OWN_CAR_AGE",
         "rawType": "float64",
         "type": "float"
        },
        {
         "name": "FLAG_MOBIL",
         "rawType": "int64",
         "type": "integer"
        },
        {
         "name": "FLAG_EMP_PHONE",
         "rawType": "int64",
         "type": "integer"
        },
        {
         "name": "FLAG_WORK_PHONE",
         "rawType": "int64",
         "type": "integer"
        },
        {
         "name": "FLAG_CONT_MOBILE",
         "rawType": "int64",
         "type": "integer"
        },
        {
         "name": "FLAG_PHONE",
         "rawType": "int64",
         "type": "integer"
        },
        {
         "name": "FLAG_EMAIL",
         "rawType": "int64",
         "type": "integer"
        },
        {
         "name": "OCCUPATION_TYPE",
         "rawType": "object",
         "type": "string"
        },
        {
         "name": "CNT_FAM_MEMBERS",
         "rawType": "float64",
         "type": "float"
        },
        {
         "name": "REGION_RATING_CLIENT",
         "rawType": "int64",
         "type": "integer"
        },
        {
         "name": "REGION_RATING_CLIENT_W_CITY",
         "rawType": "int64",
         "type": "integer"
        },
        {
         "name": "WEEKDAY_APPR_PROCESS_START",
         "rawType": "object",
         "type": "string"
        },
        {
         "name": "HOUR_APPR_PROCESS_START",
         "rawType": "int64",
         "type": "integer"
        },
        {
         "name": "REG_REGION_NOT_LIVE_REGION",
         "rawType": "int64",
         "type": "integer"
        },
        {
         "name": "REG_REGION_NOT_WORK_REGION",
         "rawType": "int64",
         "type": "integer"
        },
        {
         "name": "LIVE_REGION_NOT_WORK_REGION",
         "rawType": "int64",
         "type": "integer"
        },
        {
         "name": "REG_CITY_NOT_LIVE_CITY",
         "rawType": "int64",
         "type": "integer"
        },
        {
         "name": "REG_CITY_NOT_WORK_CITY",
         "rawType": "int64",
         "type": "integer"
        },
        {
         "name": "LIVE_CITY_NOT_WORK_CITY",
         "rawType": "int64",
         "type": "integer"
        },
        {
         "name": "ORGANIZATION_TYPE",
         "rawType": "object",
         "type": "string"
        },
        {
         "name": "EXT_SOURCE_1",
         "rawType": "float64",
         "type": "float"
        },
        {
         "name": "EXT_SOURCE_2",
         "rawType": "float64",
         "type": "float"
        },
        {
         "name": "EXT_SOURCE_3",
         "rawType": "float64",
         "type": "float"
        },
        {
         "name": "APARTMENTS_AVG",
         "rawType": "float64",
         "type": "float"
        },
        {
         "name": "BASEMENTAREA_AVG",
         "rawType": "float64",
         "type": "float"
        },
        {
         "name": "YEARS_BEGINEXPLUATATION_AVG",
         "rawType": "float64",
         "type": "float"
        },
        {
         "name": "YEARS_BUILD_AVG",
         "rawType": "float64",
         "type": "float"
        },
        {
         "name": "COMMONAREA_AVG",
         "rawType": "float64",
         "type": "float"
        },
        {
         "name": "ELEVATORS_AVG",
         "rawType": "float64",
         "type": "float"
        },
        {
         "name": "ENTRANCES_AVG",
         "rawType": "float64",
         "type": "float"
        },
        {
         "name": "FLOORSMAX_AVG",
         "rawType": "float64",
         "type": "float"
        },
        {
         "name": "FLOORSMIN_AVG",
         "rawType": "float64",
         "type": "float"
        },
        {
         "name": "LANDAREA_AVG",
         "rawType": "float64",
         "type": "float"
        },
        {
         "name": "LIVINGAPARTMENTS_AVG",
         "rawType": "float64",
         "type": "float"
        },
        {
         "name": "LIVINGAREA_AVG",
         "rawType": "float64",
         "type": "float"
        },
        {
         "name": "NONLIVINGAPARTMENTS_AVG",
         "rawType": "float64",
         "type": "float"
        },
        {
         "name": "NONLIVINGAREA_AVG",
         "rawType": "float64",
         "type": "float"
        },
        {
         "name": "APARTMENTS_MODE",
         "rawType": "float64",
         "type": "float"
        },
        {
         "name": "BASEMENTAREA_MODE",
         "rawType": "float64",
         "type": "float"
        },
        {
         "name": "YEARS_BEGINEXPLUATATION_MODE",
         "rawType": "float64",
         "type": "float"
        },
        {
         "name": "YEARS_BUILD_MODE",
         "rawType": "float64",
         "type": "float"
        },
        {
         "name": "COMMONAREA_MODE",
         "rawType": "float64",
         "type": "float"
        },
        {
         "name": "ELEVATORS_MODE",
         "rawType": "float64",
         "type": "float"
        },
        {
         "name": "ENTRANCES_MODE",
         "rawType": "float64",
         "type": "float"
        },
        {
         "name": "FLOORSMAX_MODE",
         "rawType": "float64",
         "type": "float"
        },
        {
         "name": "FLOORSMIN_MODE",
         "rawType": "float64",
         "type": "float"
        },
        {
         "name": "LANDAREA_MODE",
         "rawType": "float64",
         "type": "float"
        },
        {
         "name": "LIVINGAPARTMENTS_MODE",
         "rawType": "float64",
         "type": "float"
        },
        {
         "name": "LIVINGAREA_MODE",
         "rawType": "float64",
         "type": "float"
        },
        {
         "name": "NONLIVINGAPARTMENTS_MODE",
         "rawType": "float64",
         "type": "float"
        },
        {
         "name": "NONLIVINGAREA_MODE",
         "rawType": "float64",
         "type": "float"
        },
        {
         "name": "APARTMENTS_MEDI",
         "rawType": "float64",
         "type": "float"
        },
        {
         "name": "BASEMENTAREA_MEDI",
         "rawType": "float64",
         "type": "float"
        },
        {
         "name": "YEARS_BEGINEXPLUATATION_MEDI",
         "rawType": "float64",
         "type": "float"
        },
        {
         "name": "YEARS_BUILD_MEDI",
         "rawType": "float64",
         "type": "float"
        },
        {
         "name": "COMMONAREA_MEDI",
         "rawType": "float64",
         "type": "float"
        },
        {
         "name": "ELEVATORS_MEDI",
         "rawType": "float64",
         "type": "float"
        },
        {
         "name": "ENTRANCES_MEDI",
         "rawType": "float64",
         "type": "float"
        },
        {
         "name": "FLOORSMAX_MEDI",
         "rawType": "float64",
         "type": "float"
        },
        {
         "name": "FLOORSMIN_MEDI",
         "rawType": "float64",
         "type": "float"
        },
        {
         "name": "LANDAREA_MEDI",
         "rawType": "float64",
         "type": "float"
        },
        {
         "name": "LIVINGAPARTMENTS_MEDI",
         "rawType": "float64",
         "type": "float"
        },
        {
         "name": "LIVINGAREA_MEDI",
         "rawType": "float64",
         "type": "float"
        },
        {
         "name": "NONLIVINGAPARTMENTS_MEDI",
         "rawType": "float64",
         "type": "float"
        },
        {
         "name": "NONLIVINGAREA_MEDI",
         "rawType": "float64",
         "type": "float"
        },
        {
         "name": "FONDKAPREMONT_MODE",
         "rawType": "object",
         "type": "unknown"
        },
        {
         "name": "HOUSETYPE_MODE",
         "rawType": "object",
         "type": "unknown"
        },
        {
         "name": "TOTALAREA_MODE",
         "rawType": "float64",
         "type": "float"
        },
        {
         "name": "WALLSMATERIAL_MODE",
         "rawType": "object",
         "type": "unknown"
        },
        {
         "name": "EMERGENCYSTATE_MODE",
         "rawType": "object",
         "type": "unknown"
        },
        {
         "name": "OBS_30_CNT_SOCIAL_CIRCLE",
         "rawType": "float64",
         "type": "float"
        },
        {
         "name": "DEF_30_CNT_SOCIAL_CIRCLE",
         "rawType": "float64",
         "type": "float"
        },
        {
         "name": "OBS_60_CNT_SOCIAL_CIRCLE",
         "rawType": "float64",
         "type": "float"
        },
        {
         "name": "DEF_60_CNT_SOCIAL_CIRCLE",
         "rawType": "float64",
         "type": "float"
        },
        {
         "name": "DAYS_LAST_PHONE_CHANGE",
         "rawType": "float64",
         "type": "float"
        },
        {
         "name": "FLAG_DOCUMENT_2",
         "rawType": "int64",
         "type": "integer"
        },
        {
         "name": "FLAG_DOCUMENT_3",
         "rawType": "int64",
         "type": "integer"
        },
        {
         "name": "FLAG_DOCUMENT_4",
         "rawType": "int64",
         "type": "integer"
        },
        {
         "name": "FLAG_DOCUMENT_5",
         "rawType": "int64",
         "type": "integer"
        },
        {
         "name": "FLAG_DOCUMENT_6",
         "rawType": "int64",
         "type": "integer"
        },
        {
         "name": "FLAG_DOCUMENT_7",
         "rawType": "int64",
         "type": "integer"
        },
        {
         "name": "FLAG_DOCUMENT_8",
         "rawType": "int64",
         "type": "integer"
        },
        {
         "name": "FLAG_DOCUMENT_9",
         "rawType": "int64",
         "type": "integer"
        },
        {
         "name": "FLAG_DOCUMENT_10",
         "rawType": "int64",
         "type": "integer"
        },
        {
         "name": "FLAG_DOCUMENT_11",
         "rawType": "int64",
         "type": "integer"
        },
        {
         "name": "FLAG_DOCUMENT_12",
         "rawType": "int64",
         "type": "integer"
        },
        {
         "name": "FLAG_DOCUMENT_13",
         "rawType": "int64",
         "type": "integer"
        },
        {
         "name": "FLAG_DOCUMENT_14",
         "rawType": "int64",
         "type": "integer"
        },
        {
         "name": "FLAG_DOCUMENT_15",
         "rawType": "int64",
         "type": "integer"
        },
        {
         "name": "FLAG_DOCUMENT_16",
         "rawType": "int64",
         "type": "integer"
        },
        {
         "name": "FLAG_DOCUMENT_17",
         "rawType": "int64",
         "type": "integer"
        },
        {
         "name": "FLAG_DOCUMENT_18",
         "rawType": "int64",
         "type": "integer"
        },
        {
         "name": "FLAG_DOCUMENT_19",
         "rawType": "int64",
         "type": "integer"
        },
        {
         "name": "FLAG_DOCUMENT_20",
         "rawType": "int64",
         "type": "integer"
        },
        {
         "name": "FLAG_DOCUMENT_21",
         "rawType": "int64",
         "type": "integer"
        },
        {
         "name": "AMT_REQ_CREDIT_BUREAU_HOUR",
         "rawType": "float64",
         "type": "float"
        },
        {
         "name": "AMT_REQ_CREDIT_BUREAU_DAY",
         "rawType": "float64",
         "type": "float"
        },
        {
         "name": "AMT_REQ_CREDIT_BUREAU_WEEK",
         "rawType": "float64",
         "type": "float"
        },
        {
         "name": "AMT_REQ_CREDIT_BUREAU_MON",
         "rawType": "float64",
         "type": "float"
        },
        {
         "name": "AMT_REQ_CREDIT_BUREAU_QRT",
         "rawType": "float64",
         "type": "float"
        },
        {
         "name": "AMT_REQ_CREDIT_BUREAU_YEAR",
         "rawType": "float64",
         "type": "float"
        }
       ],
       "conversionMethod": "pd.DataFrame",
       "ref": "868dfaa1-2011-4519-a28e-9b382e22c189",
       "rows": [
        [
         "0",
         "100002",
         "1",
         "0",
         "M",
         "0",
         "1",
         "0",
         "202500.0",
         "406597.5",
         "24700.5",
         "351000.0",
         "Unaccompanied",
         "Working",
         "Secondary / secondary special",
         "Single / not married",
         "House / apartment",
         "0.018801",
         "-9461",
         "-637",
         "-3648.0",
         "-2120",
         null,
         "1",
         "1",
         "0",
         "1",
         "1",
         "0",
         "Laborers",
         "1.0",
         "2",
         "2",
         "WEDNESDAY",
         "10",
         "0",
         "0",
         "0",
         "0",
         "0",
         "0",
         "Business Entity Type 3",
         "0.0830369673913225",
         "0.2629485927471776",
         "0.1393757800997895",
         "0.0247",
         "0.0369",
         "0.9722",
         "0.6192",
         "0.0143",
         "0.0",
         "0.069",
         "0.0833",
         "0.125",
         "0.0369",
         "0.0202",
         "0.019",
         "0.0",
         "0.0",
         "0.0252",
         "0.0383",
         "0.9722",
         "0.6341",
         "0.0144",
         "0.0",
         "0.069",
         "0.0833",
         "0.125",
         "0.0377",
         "0.022",
         "0.0198",
         "0.0",
         "0.0",
         "0.025",
         "0.0369",
         "0.9722",
         "0.6243",
         "0.0144",
         "0.0",
         "0.069",
         "0.0833",
         "0.125",
         "0.0375",
         "0.0205",
         "0.0193",
         "0.0",
         "0.0",
         "reg oper account",
         "block of flats",
         "0.0149",
         "Stone, brick",
         "No",
         "2.0",
         "2.0",
         "2.0",
         "2.0",
         "-1134.0",
         "0",
         "1",
         "0",
         "0",
         "0",
         "0",
         "0",
         "0",
         "0",
         "0",
         "0",
         "0",
         "0",
         "0",
         "0",
         "0",
         "0",
         "0",
         "0",
         "0",
         "0.0",
         "0.0",
         "0.0",
         "0.0",
         "0.0",
         "1.0"
        ],
        [
         "1",
         "100003",
         "0",
         "0",
         "F",
         "0",
         "0",
         "0",
         "270000.0",
         "1293502.5",
         "35698.5",
         "1129500.0",
         "Family",
         "State servant",
         "Higher education",
         "Married",
         "House / apartment",
         "0.0035409999999999",
         "-16765",
         "-1188",
         "-1186.0",
         "-291",
         null,
         "1",
         "1",
         "0",
         "1",
         "1",
         "0",
         "Core staff",
         "2.0",
         "1",
         "1",
         "MONDAY",
         "11",
         "0",
         "0",
         "0",
         "0",
         "0",
         "0",
         "School",
         "0.3112673113812225",
         "0.6222457752555098",
         null,
         "0.0959",
         "0.0529",
         "0.9851",
         "0.7959999999999999",
         "0.0605",
         "0.08",
         "0.0345",
         "0.2917",
         "0.3333",
         "0.013",
         "0.0773",
         "0.0549",
         "0.0039",
         "0.0098",
         "0.0924",
         "0.0538",
         "0.9851",
         "0.804",
         "0.0497",
         "0.0806",
         "0.0345",
         "0.2917",
         "0.3333",
         "0.0128",
         "0.079",
         "0.0554",
         "0.0",
         "0.0",
         "0.0968",
         "0.0529",
         "0.9851",
         "0.7987",
         "0.0608",
         "0.08",
         "0.0345",
         "0.2917",
         "0.3333",
         "0.0132",
         "0.0787",
         "0.0558",
         "0.0039",
         "0.01",
         "reg oper account",
         "block of flats",
         "0.0714",
         "Block",
         "No",
         "1.0",
         "0.0",
         "1.0",
         "0.0",
         "-828.0",
         "0",
         "1",
         "0",
         "0",
         "0",
         "0",
         "0",
         "0",
         "0",
         "0",
         "0",
         "0",
         "0",
         "0",
         "0",
         "0",
         "0",
         "0",
         "0",
         "0",
         "0.0",
         "0.0",
         "0.0",
         "0.0",
         "0.0",
         "0.0"
        ],
        [
         "2",
         "100004",
         "0",
         "1",
         "M",
         "1",
         "1",
         "0",
         "67500.0",
         "135000.0",
         "6750.0",
         "135000.0",
         "Unaccompanied",
         "Working",
         "Secondary / secondary special",
         "Single / not married",
         "House / apartment",
         "0.010032",
         "-19046",
         "-225",
         "-4260.0",
         "-2531",
         "26.0",
         "1",
         "1",
         "1",
         "1",
         "1",
         "0",
         "Laborers",
         "1.0",
         "2",
         "2",
         "MONDAY",
         "9",
         "0",
         "0",
         "0",
         "0",
         "0",
         "0",
         "Government",
         null,
         "0.5559120833904428",
         "0.7295666907060153",
         null,
         null,
         null,
         null,
         null,
         null,
         null,
         null,
         null,
         null,
         null,
         null,
         null,
         null,
         null,
         null,
         null,
         null,
         null,
         null,
         null,
         null,
         null,
         null,
         null,
         null,
         null,
         null,
         null,
         null,
         null,
         null,
         null,
         null,
         null,
         null,
         null,
         null,
         null,
         null,
         null,
         null,
         null,
         null,
         null,
         null,
         null,
         "0.0",
         "0.0",
         "0.0",
         "0.0",
         "-815.0",
         "0",
         "0",
         "0",
         "0",
         "0",
         "0",
         "0",
         "0",
         "0",
         "0",
         "0",
         "0",
         "0",
         "0",
         "0",
         "0",
         "0",
         "0",
         "0",
         "0",
         "0.0",
         "0.0",
         "0.0",
         "0.0",
         "0.0",
         "0.0"
        ],
        [
         "3",
         "100006",
         "0",
         "0",
         "F",
         "0",
         "1",
         "0",
         "135000.0",
         "312682.5",
         "29686.5",
         "297000.0",
         "Unaccompanied",
         "Working",
         "Secondary / secondary special",
         "Civil marriage",
         "House / apartment",
         "0.008019",
         "-19005",
         "-3039",
         "-9833.0",
         "-2437",
         null,
         "1",
         "1",
         "0",
         "1",
         "0",
         "0",
         "Laborers",
         "2.0",
         "2",
         "2",
         "WEDNESDAY",
         "17",
         "0",
         "0",
         "0",
         "0",
         "0",
         "0",
         "Business Entity Type 3",
         null,
         "0.6504416904014653",
         null,
         null,
         null,
         null,
         null,
         null,
         null,
         null,
         null,
         null,
         null,
         null,
         null,
         null,
         null,
         null,
         null,
         null,
         null,
         null,
         null,
         null,
         null,
         null,
         null,
         null,
         null,
         null,
         null,
         null,
         null,
         null,
         null,
         null,
         null,
         null,
         null,
         null,
         null,
         null,
         null,
         null,
         null,
         null,
         null,
         null,
         null,
         null,
         "2.0",
         "0.0",
         "2.0",
         "0.0",
         "-617.0",
         "0",
         "1",
         "0",
         "0",
         "0",
         "0",
         "0",
         "0",
         "0",
         "0",
         "0",
         "0",
         "0",
         "0",
         "0",
         "0",
         "0",
         "0",
         "0",
         "0",
         null,
         null,
         null,
         null,
         null,
         null
        ],
        [
         "4",
         "100007",
         "0",
         "0",
         "M",
         "0",
         "1",
         "0",
         "121500.0",
         "513000.0",
         "21865.5",
         "513000.0",
         "Unaccompanied",
         "Working",
         "Secondary / secondary special",
         "Single / not married",
         "House / apartment",
         "0.028663",
         "-19932",
         "-3038",
         "-4311.0",
         "-3458",
         null,
         "1",
         "1",
         "0",
         "1",
         "0",
         "0",
         "Core staff",
         "1.0",
         "2",
         "2",
         "THURSDAY",
         "11",
         "0",
         "0",
         "0",
         "0",
         "1",
         "1",
         "Religion",
         null,
         "0.3227382869704046",
         null,
         null,
         null,
         null,
         null,
         null,
         null,
         null,
         null,
         null,
         null,
         null,
         null,
         null,
         null,
         null,
         null,
         null,
         null,
         null,
         null,
         null,
         null,
         null,
         null,
         null,
         null,
         null,
         null,
         null,
         null,
         null,
         null,
         null,
         null,
         null,
         null,
         null,
         null,
         null,
         null,
         null,
         null,
         null,
         null,
         null,
         null,
         null,
         "0.0",
         "0.0",
         "0.0",
         "0.0",
         "-1106.0",
         "0",
         "0",
         "0",
         "0",
         "0",
         "0",
         "1",
         "0",
         "0",
         "0",
         "0",
         "0",
         "0",
         "0",
         "0",
         "0",
         "0",
         "0",
         "0",
         "0",
         "0.0",
         "0.0",
         "0.0",
         "0.0",
         "0.0",
         "0.0"
        ]
       ],
       "shape": {
        "columns": 122,
        "rows": 5
       }
      },
      "text/html": [
       "<div>\n",
       "<style scoped>\n",
       "    .dataframe tbody tr th:only-of-type {\n",
       "        vertical-align: middle;\n",
       "    }\n",
       "\n",
       "    .dataframe tbody tr th {\n",
       "        vertical-align: top;\n",
       "    }\n",
       "\n",
       "    .dataframe thead th {\n",
       "        text-align: right;\n",
       "    }\n",
       "</style>\n",
       "<table border=\"1\" class=\"dataframe\">\n",
       "  <thead>\n",
       "    <tr style=\"text-align: right;\">\n",
       "      <th></th>\n",
       "      <th>SK_ID_CURR</th>\n",
       "      <th>TARGET</th>\n",
       "      <th>NAME_CONTRACT_TYPE</th>\n",
       "      <th>CODE_GENDER</th>\n",
       "      <th>FLAG_OWN_CAR</th>\n",
       "      <th>FLAG_OWN_REALTY</th>\n",
       "      <th>CNT_CHILDREN</th>\n",
       "      <th>AMT_INCOME_TOTAL</th>\n",
       "      <th>AMT_CREDIT</th>\n",
       "      <th>AMT_ANNUITY</th>\n",
       "      <th>...</th>\n",
       "      <th>FLAG_DOCUMENT_18</th>\n",
       "      <th>FLAG_DOCUMENT_19</th>\n",
       "      <th>FLAG_DOCUMENT_20</th>\n",
       "      <th>FLAG_DOCUMENT_21</th>\n",
       "      <th>AMT_REQ_CREDIT_BUREAU_HOUR</th>\n",
       "      <th>AMT_REQ_CREDIT_BUREAU_DAY</th>\n",
       "      <th>AMT_REQ_CREDIT_BUREAU_WEEK</th>\n",
       "      <th>AMT_REQ_CREDIT_BUREAU_MON</th>\n",
       "      <th>AMT_REQ_CREDIT_BUREAU_QRT</th>\n",
       "      <th>AMT_REQ_CREDIT_BUREAU_YEAR</th>\n",
       "    </tr>\n",
       "  </thead>\n",
       "  <tbody>\n",
       "    <tr>\n",
       "      <th>0</th>\n",
       "      <td>100002</td>\n",
       "      <td>1</td>\n",
       "      <td>0</td>\n",
       "      <td>M</td>\n",
       "      <td>0</td>\n",
       "      <td>1</td>\n",
       "      <td>0</td>\n",
       "      <td>202500.0</td>\n",
       "      <td>406597.5</td>\n",
       "      <td>24700.5</td>\n",
       "      <td>...</td>\n",
       "      <td>0</td>\n",
       "      <td>0</td>\n",
       "      <td>0</td>\n",
       "      <td>0</td>\n",
       "      <td>0.0</td>\n",
       "      <td>0.0</td>\n",
       "      <td>0.0</td>\n",
       "      <td>0.0</td>\n",
       "      <td>0.0</td>\n",
       "      <td>1.0</td>\n",
       "    </tr>\n",
       "    <tr>\n",
       "      <th>1</th>\n",
       "      <td>100003</td>\n",
       "      <td>0</td>\n",
       "      <td>0</td>\n",
       "      <td>F</td>\n",
       "      <td>0</td>\n",
       "      <td>0</td>\n",
       "      <td>0</td>\n",
       "      <td>270000.0</td>\n",
       "      <td>1293502.5</td>\n",
       "      <td>35698.5</td>\n",
       "      <td>...</td>\n",
       "      <td>0</td>\n",
       "      <td>0</td>\n",
       "      <td>0</td>\n",
       "      <td>0</td>\n",
       "      <td>0.0</td>\n",
       "      <td>0.0</td>\n",
       "      <td>0.0</td>\n",
       "      <td>0.0</td>\n",
       "      <td>0.0</td>\n",
       "      <td>0.0</td>\n",
       "    </tr>\n",
       "    <tr>\n",
       "      <th>2</th>\n",
       "      <td>100004</td>\n",
       "      <td>0</td>\n",
       "      <td>1</td>\n",
       "      <td>M</td>\n",
       "      <td>1</td>\n",
       "      <td>1</td>\n",
       "      <td>0</td>\n",
       "      <td>67500.0</td>\n",
       "      <td>135000.0</td>\n",
       "      <td>6750.0</td>\n",
       "      <td>...</td>\n",
       "      <td>0</td>\n",
       "      <td>0</td>\n",
       "      <td>0</td>\n",
       "      <td>0</td>\n",
       "      <td>0.0</td>\n",
       "      <td>0.0</td>\n",
       "      <td>0.0</td>\n",
       "      <td>0.0</td>\n",
       "      <td>0.0</td>\n",
       "      <td>0.0</td>\n",
       "    </tr>\n",
       "    <tr>\n",
       "      <th>3</th>\n",
       "      <td>100006</td>\n",
       "      <td>0</td>\n",
       "      <td>0</td>\n",
       "      <td>F</td>\n",
       "      <td>0</td>\n",
       "      <td>1</td>\n",
       "      <td>0</td>\n",
       "      <td>135000.0</td>\n",
       "      <td>312682.5</td>\n",
       "      <td>29686.5</td>\n",
       "      <td>...</td>\n",
       "      <td>0</td>\n",
       "      <td>0</td>\n",
       "      <td>0</td>\n",
       "      <td>0</td>\n",
       "      <td>NaN</td>\n",
       "      <td>NaN</td>\n",
       "      <td>NaN</td>\n",
       "      <td>NaN</td>\n",
       "      <td>NaN</td>\n",
       "      <td>NaN</td>\n",
       "    </tr>\n",
       "    <tr>\n",
       "      <th>4</th>\n",
       "      <td>100007</td>\n",
       "      <td>0</td>\n",
       "      <td>0</td>\n",
       "      <td>M</td>\n",
       "      <td>0</td>\n",
       "      <td>1</td>\n",
       "      <td>0</td>\n",
       "      <td>121500.0</td>\n",
       "      <td>513000.0</td>\n",
       "      <td>21865.5</td>\n",
       "      <td>...</td>\n",
       "      <td>0</td>\n",
       "      <td>0</td>\n",
       "      <td>0</td>\n",
       "      <td>0</td>\n",
       "      <td>0.0</td>\n",
       "      <td>0.0</td>\n",
       "      <td>0.0</td>\n",
       "      <td>0.0</td>\n",
       "      <td>0.0</td>\n",
       "      <td>0.0</td>\n",
       "    </tr>\n",
       "  </tbody>\n",
       "</table>\n",
       "<p>5 rows × 122 columns</p>\n",
       "</div>"
      ],
      "text/plain": [
       "   SK_ID_CURR  TARGET  NAME_CONTRACT_TYPE CODE_GENDER  FLAG_OWN_CAR  \\\n",
       "0      100002       1                   0           M             0   \n",
       "1      100003       0                   0           F             0   \n",
       "2      100004       0                   1           M             1   \n",
       "3      100006       0                   0           F             0   \n",
       "4      100007       0                   0           M             0   \n",
       "\n",
       "   FLAG_OWN_REALTY  CNT_CHILDREN  AMT_INCOME_TOTAL  AMT_CREDIT  AMT_ANNUITY  \\\n",
       "0                1             0          202500.0    406597.5      24700.5   \n",
       "1                0             0          270000.0   1293502.5      35698.5   \n",
       "2                1             0           67500.0    135000.0       6750.0   \n",
       "3                1             0          135000.0    312682.5      29686.5   \n",
       "4                1             0          121500.0    513000.0      21865.5   \n",
       "\n",
       "   ...  FLAG_DOCUMENT_18 FLAG_DOCUMENT_19 FLAG_DOCUMENT_20 FLAG_DOCUMENT_21  \\\n",
       "0  ...                 0                0                0                0   \n",
       "1  ...                 0                0                0                0   \n",
       "2  ...                 0                0                0                0   \n",
       "3  ...                 0                0                0                0   \n",
       "4  ...                 0                0                0                0   \n",
       "\n",
       "  AMT_REQ_CREDIT_BUREAU_HOUR AMT_REQ_CREDIT_BUREAU_DAY  \\\n",
       "0                        0.0                       0.0   \n",
       "1                        0.0                       0.0   \n",
       "2                        0.0                       0.0   \n",
       "3                        NaN                       NaN   \n",
       "4                        0.0                       0.0   \n",
       "\n",
       "   AMT_REQ_CREDIT_BUREAU_WEEK  AMT_REQ_CREDIT_BUREAU_MON  \\\n",
       "0                         0.0                        0.0   \n",
       "1                         0.0                        0.0   \n",
       "2                         0.0                        0.0   \n",
       "3                         NaN                        NaN   \n",
       "4                         0.0                        0.0   \n",
       "\n",
       "   AMT_REQ_CREDIT_BUREAU_QRT  AMT_REQ_CREDIT_BUREAU_YEAR  \n",
       "0                        0.0                         1.0  \n",
       "1                        0.0                         0.0  \n",
       "2                        0.0                         0.0  \n",
       "3                        NaN                         NaN  \n",
       "4                        0.0                         0.0  \n",
       "\n",
       "[5 rows x 122 columns]"
      ]
     },
     "execution_count": 8,
     "metadata": {},
     "output_type": "execute_result"
    }
   ],
   "source": [
    "# 將只有兩種值的類別型欄位, 做 Label Encoder, 計算相關係數時讓這些欄位可以被包含在內\n",
    "from sklearn.preprocessing import LabelEncoder\n",
    "le = LabelEncoder()\n",
    "\n",
    "# 檢查每一個 column\n",
    "for col in app_train:\n",
    "    if app_train[col].dtype == 'object':\n",
    "        # 如果只有兩種值的類別型欄位\n",
    "        if len(list(app_train[col].unique())) <= 2:\n",
    "            # 就做 Label Encoder, 以加入相關係數檢查\n",
    "            app_train[col] = le.fit_transform(app_train[col])            \n",
    "print(app_train.shape)\n",
    "app_train.head()"
   ]
  },
  {
   "cell_type": "code",
   "execution_count": 9,
   "metadata": {
    "collapsed": true
   },
   "outputs": [],
   "source": [
    "# 受雇日數為異常值的資料, 另外設一個欄位記錄, 並將異常的日數轉成空值 (np.nan)\n",
    "app_train['DAYS_EMPLOYED_ANOM'] = app_train[\"DAYS_EMPLOYED\"] == 365243\n",
    "app_train['DAYS_EMPLOYED'].replace({365243: np.nan}, inplace = True)\n",
    "\n",
    "# 出生日數 (DAYS_BIRTH) 取絕對值 \n",
    "app_train['DAYS_BIRTH'] = abs(app_train['DAYS_BIRTH'])"
   ]
  },
  {
   "cell_type": "markdown",
   "metadata": {},
   "source": [
    "## 練習時間\n",
    "參考 Day 17 範例程式，離散化你覺得有興趣的欄位，並嘗試找出有趣的訊息"
   ]
  },
  {
   "cell_type": "code",
   "execution_count": null,
   "metadata": {},
   "outputs": [
    {
     "data": {
      "text/plain": [
       "equal_width_YEARS_BIRTH\n",
       "(34.7, 39.6]      42860\n",
       "(39.6, 44.5]      41416\n",
       "(29.8, 34.7]      39439\n",
       "(44.5, 49.4]      35127\n",
       "(49.4, 54.3]      34942\n",
       "(54.3, 59.2]      33132\n",
       "(24.9, 29.8]      32850\n",
       "(59.2, 64.1]      27473\n",
       "(19.951, 24.9]    12150\n",
       "(64.1, 69.0]       8122\n",
       "Name: count, dtype: int64"
      ]
     },
     "execution_count": 20,
     "metadata": {},
     "output_type": "execute_result"
    }
   ],
   "source": [
    "# 等間距\n",
    "# 處理 \"DAYS_BITRH\" data\n",
    "app_train['YEARS_BIRTH'] = app_train['DAYS_BIRTH']//365\n",
    "\n",
    "# 新增欄位 \"equal_width_YEARS_BIRTH\", 對年齡做等寬劃分\n",
    "app_train[\"equal_width_YEARS_BIRTH\"] = pd.cut(app_train[\"YEARS_BIRTH\"], bins=10)\n",
    "\n",
    "# 觀察等寬劃分下, 每個種組距各出現幾次\n",
    "app_train[\"equal_width_YEARS_BIRTH\"].value_counts() # 每個 bin 的值的範圍大小都是一樣的"
   ]
  },
  {
   "cell_type": "code",
   "execution_count": 26,
   "metadata": {},
   "outputs": [
    {
     "data": {
      "application/vnd.microsoft.datawrangler.viewer.v0+json": {
       "columns": [
        {
         "name": "index",
         "rawType": "int64",
         "type": "integer"
        },
        {
         "name": "YEARS_BIRTH",
         "rawType": "int64",
         "type": "integer"
        },
        {
         "name": "equal_width_YEARS_BIRTH",
         "rawType": "category",
         "type": "unknown"
        }
       ],
       "conversionMethod": "pd.DataFrame",
       "ref": "67d6bc8b-034b-4bc4-87be-e0d2117b19cd",
       "rows": [
        [
         "0",
         "25",
         "(24.9, 29.8]"
        ],
        [
         "1",
         "45",
         "(44.5, 49.4]"
        ],
        [
         "2",
         "52",
         "(49.4, 54.3]"
        ],
        [
         "3",
         "52",
         "(49.4, 54.3]"
        ],
        [
         "4",
         "54",
         "(49.4, 54.3]"
        ]
       ],
       "shape": {
        "columns": 2,
        "rows": 5
       }
      },
      "text/html": [
       "<div>\n",
       "<style scoped>\n",
       "    .dataframe tbody tr th:only-of-type {\n",
       "        vertical-align: middle;\n",
       "    }\n",
       "\n",
       "    .dataframe tbody tr th {\n",
       "        vertical-align: top;\n",
       "    }\n",
       "\n",
       "    .dataframe thead th {\n",
       "        text-align: right;\n",
       "    }\n",
       "</style>\n",
       "<table border=\"1\" class=\"dataframe\">\n",
       "  <thead>\n",
       "    <tr style=\"text-align: right;\">\n",
       "      <th></th>\n",
       "      <th>YEARS_BIRTH</th>\n",
       "      <th>equal_width_YEARS_BIRTH</th>\n",
       "    </tr>\n",
       "  </thead>\n",
       "  <tbody>\n",
       "    <tr>\n",
       "      <th>0</th>\n",
       "      <td>25</td>\n",
       "      <td>(24.9, 29.8]</td>\n",
       "    </tr>\n",
       "    <tr>\n",
       "      <th>1</th>\n",
       "      <td>45</td>\n",
       "      <td>(44.5, 49.4]</td>\n",
       "    </tr>\n",
       "    <tr>\n",
       "      <th>2</th>\n",
       "      <td>52</td>\n",
       "      <td>(49.4, 54.3]</td>\n",
       "    </tr>\n",
       "    <tr>\n",
       "      <th>3</th>\n",
       "      <td>52</td>\n",
       "      <td>(49.4, 54.3]</td>\n",
       "    </tr>\n",
       "    <tr>\n",
       "      <th>4</th>\n",
       "      <td>54</td>\n",
       "      <td>(49.4, 54.3]</td>\n",
       "    </tr>\n",
       "  </tbody>\n",
       "</table>\n",
       "</div>"
      ],
      "text/plain": [
       "   YEARS_BIRTH equal_width_YEARS_BIRTH\n",
       "0           25            (24.9, 29.8]\n",
       "1           45            (44.5, 49.4]\n",
       "2           52            (49.4, 54.3]\n",
       "3           52            (49.4, 54.3]\n",
       "4           54            (49.4, 54.3]"
      ]
     },
     "execution_count": 26,
     "metadata": {},
     "output_type": "execute_result"
    }
   ],
   "source": [
    "# print(app_train.shape)\n",
    "app_train[['YEARS_BIRTH','equal_width_YEARS_BIRTH']].head()\n"
   ]
  },
  {
   "cell_type": "code",
   "execution_count": 28,
   "metadata": {},
   "outputs": [
    {
     "data": {
      "text/plain": [
       "equal_freq_YEARS_BIRTH\n",
       "(19.999, 28.0]    37330\n",
       "(51.0, 56.0]      35236\n",
       "(39.0, 43.0]      33597\n",
       "(28.0, 32.0]      31764\n",
       "(32.0, 36.0]      31763\n",
       "(60.0, 69.0]      29368\n",
       "(43.0, 47.0]      29335\n",
       "(47.0, 51.0]      26782\n",
       "(36.0, 39.0]      26442\n",
       "(56.0, 60.0]      25894\n",
       "Name: count, dtype: int64"
      ]
     },
     "execution_count": 28,
     "metadata": {},
     "output_type": "execute_result"
    }
   ],
   "source": [
    "# 等數量\n",
    "# 新增欄位 \"equal_freq_age\", 對年齡做等頻劃分\n",
    "app_train[\"equal_freq_YEARS_BIRTH\"] = pd.qcut(app_train[\"YEARS_BIRTH\"],q=10)\n",
    "# 觀察等頻劃分下, 每個種組距各出現幾次\n",
    "app_train[\"equal_freq_YEARS_BIRTH\"].value_counts() # 每個 bin 的資料筆數是一樣的"
   ]
  },
  {
   "cell_type": "code",
   "execution_count": 29,
   "metadata": {},
   "outputs": [
    {
     "data": {
      "application/vnd.microsoft.datawrangler.viewer.v0+json": {
       "columns": [
        {
         "name": "index",
         "rawType": "int64",
         "type": "integer"
        },
        {
         "name": "YEARS_BIRTH",
         "rawType": "int64",
         "type": "integer"
        },
        {
         "name": "equal_width_YEARS_BIRTH",
         "rawType": "category",
         "type": "unknown"
        },
        {
         "name": "equal_freq_YEARS_BIRTH",
         "rawType": "category",
         "type": "unknown"
        }
       ],
       "conversionMethod": "pd.DataFrame",
       "ref": "66e01721-69f8-40d4-af83-63a4f0ccbf12",
       "rows": [
        [
         "0",
         "25",
         "(24.9, 29.8]",
         "(19.999, 28.0]"
        ],
        [
         "1",
         "45",
         "(44.5, 49.4]",
         "(43.0, 47.0]"
        ],
        [
         "2",
         "52",
         "(49.4, 54.3]",
         "(51.0, 56.0]"
        ],
        [
         "3",
         "52",
         "(49.4, 54.3]",
         "(51.0, 56.0]"
        ],
        [
         "4",
         "54",
         "(49.4, 54.3]",
         "(51.0, 56.0]"
        ]
       ],
       "shape": {
        "columns": 3,
        "rows": 5
       }
      },
      "text/html": [
       "<div>\n",
       "<style scoped>\n",
       "    .dataframe tbody tr th:only-of-type {\n",
       "        vertical-align: middle;\n",
       "    }\n",
       "\n",
       "    .dataframe tbody tr th {\n",
       "        vertical-align: top;\n",
       "    }\n",
       "\n",
       "    .dataframe thead th {\n",
       "        text-align: right;\n",
       "    }\n",
       "</style>\n",
       "<table border=\"1\" class=\"dataframe\">\n",
       "  <thead>\n",
       "    <tr style=\"text-align: right;\">\n",
       "      <th></th>\n",
       "      <th>YEARS_BIRTH</th>\n",
       "      <th>equal_width_YEARS_BIRTH</th>\n",
       "      <th>equal_freq_YEARS_BIRTH</th>\n",
       "    </tr>\n",
       "  </thead>\n",
       "  <tbody>\n",
       "    <tr>\n",
       "      <th>0</th>\n",
       "      <td>25</td>\n",
       "      <td>(24.9, 29.8]</td>\n",
       "      <td>(19.999, 28.0]</td>\n",
       "    </tr>\n",
       "    <tr>\n",
       "      <th>1</th>\n",
       "      <td>45</td>\n",
       "      <td>(44.5, 49.4]</td>\n",
       "      <td>(43.0, 47.0]</td>\n",
       "    </tr>\n",
       "    <tr>\n",
       "      <th>2</th>\n",
       "      <td>52</td>\n",
       "      <td>(49.4, 54.3]</td>\n",
       "      <td>(51.0, 56.0]</td>\n",
       "    </tr>\n",
       "    <tr>\n",
       "      <th>3</th>\n",
       "      <td>52</td>\n",
       "      <td>(49.4, 54.3]</td>\n",
       "      <td>(51.0, 56.0]</td>\n",
       "    </tr>\n",
       "    <tr>\n",
       "      <th>4</th>\n",
       "      <td>54</td>\n",
       "      <td>(49.4, 54.3]</td>\n",
       "      <td>(51.0, 56.0]</td>\n",
       "    </tr>\n",
       "  </tbody>\n",
       "</table>\n",
       "</div>"
      ],
      "text/plain": [
       "   YEARS_BIRTH equal_width_YEARS_BIRTH equal_freq_YEARS_BIRTH\n",
       "0           25            (24.9, 29.8]         (19.999, 28.0]\n",
       "1           45            (44.5, 49.4]           (43.0, 47.0]\n",
       "2           52            (49.4, 54.3]           (51.0, 56.0]\n",
       "3           52            (49.4, 54.3]           (51.0, 56.0]\n",
       "4           54            (49.4, 54.3]           (51.0, 56.0]"
      ]
     },
     "execution_count": 29,
     "metadata": {},
     "output_type": "execute_result"
    }
   ],
   "source": [
    "# print(app_train.shape)\n",
    "app_train[['YEARS_BIRTH','equal_width_YEARS_BIRTH','equal_freq_YEARS_BIRTH']].head()\n"
   ]
  },
  {
   "cell_type": "code",
   "execution_count": null,
   "metadata": {},
   "outputs": [],
   "source": []
  }
 ],
 "metadata": {
  "kernelspec": {
   "display_name": ".venv",
   "language": "python",
   "name": "python3"
  },
  "language_info": {
   "codemirror_mode": {
    "name": "ipython",
    "version": 3
   },
   "file_extension": ".py",
   "mimetype": "text/x-python",
   "name": "python",
   "nbconvert_exporter": "python",
   "pygments_lexer": "ipython3",
   "version": "3.8.3"
  }
 },
 "nbformat": 4,
 "nbformat_minor": 2
}
