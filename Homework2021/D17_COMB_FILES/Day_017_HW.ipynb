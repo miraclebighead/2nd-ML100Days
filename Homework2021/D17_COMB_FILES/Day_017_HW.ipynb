{
 "cells": [
  {
   "cell_type": "markdown",
   "metadata": {},
   "source": [
    "# 作業\n",
    "- 新增一個欄位 `customized_age_grp`，把 `age` 分為 (0, 10], (10, 20], (20, 30], (30, 50], (50, 100] 這五組，\n",
    "'(' 表示不包含, ']' 表示包含  \n",
    "- Hints: 執行 ??pd.cut()，了解提供其中 bins 這個參數的使用方式"
   ]
  },
  {
   "cell_type": "markdown",
   "metadata": {},
   "source": [
    "# [作業目標]\n",
    "- 請同學試著查詢 pandas.cut 這個函數還有哪些參數, 藉由改動參數以達成目標\n",
    "- 藉由查詢與改動參數的過程, 熟悉查詢函數的方法與理解參數性質, 並了解數值的離散化的調整工具"
   ]
  },
  {
   "cell_type": "markdown",
   "metadata": {},
   "source": [
    "# [作業重點]\n",
    "- 仿照 In[3], In[4] 的語法, 並設定 pd.cut 的參數以指定間距"
   ]
  },
  {
   "cell_type": "code",
   "execution_count": 2,
   "metadata": {
    "collapsed": true
   },
   "outputs": [],
   "source": [
    "# 載入套件\n",
    "import os\n",
    "import numpy as np\n",
    "import pandas as pd\n",
    "\n",
    "import matplotlib.pyplot as plt\n",
    "%matplotlib inline"
   ]
  },
  {
   "cell_type": "code",
   "execution_count": 5,
   "metadata": {
    "collapsed": true
   },
   "outputs": [],
   "source": [
    "# 初始設定 Ages 的資料\n",
    "ages = pd.DataFrame({\"age\": [18,22,25,27,7,21,23,37,30,61,45,41,9,18,80,100]})"
   ]
  },
  {
   "cell_type": "code",
   "execution_count": null,
   "metadata": {},
   "outputs": [
    {
     "name": "stdout",
     "output_type": "stream",
     "text": [
      "    age customized_age_grp\n",
      "0    18           (10, 20]\n",
      "1    22           (20, 30]\n",
      "2    25           (20, 30]\n",
      "3    27           (20, 30]\n",
      "4     7            (0, 10]\n",
      "5    21           (20, 30]\n",
      "6    23           (20, 30]\n",
      "7    37           (30, 50]\n",
      "8    30           (20, 30]\n",
      "9    61          (50, 100]\n",
      "10   45           (30, 50]\n",
      "11   41           (30, 50]\n",
      "12    9            (0, 10]\n",
      "13   18           (10, 20]\n",
      "14   80          (50, 100]\n",
      "15  100          (50, 100]\n"
     ]
    }
   ],
   "source": [
    "# 指定間距 \n",
    "\n",
    "bins = [0, 10, 20, 30, 50, 100]\n",
    "labels =  ['(0, 10]', '(10, 20]', '(20, 30]', '(30, 50]', '(50, 100]']\n",
    "\n",
    "ages['customized_age_grp'] = pd.cut(ages['age'], bins = bins, labels=labels, right = True)\n",
    "print(ages)\n",
    "\n",
    "\"\"\" \n",
    "bins: 定義區間邊界，使用 0, 10, 20, 30, 50, 100 來設定區間邊界。\n",
    "labels: 定義區間標籤，使用 (0, 10]、(10, 20] 等來設定區間標籤。\n",
    "right=True: 表示區間的右邊界是包含在區間內的，例如 (10, 20] 表示包含 20，但不包含 10。\n",
    "pd.cut(ages['age'], bins=bins, labels=labels, right=True): 使用 pd.cut() 函式將 ages['age'] 欄位的值根據 bins 和 labels 進行分組。\n",
    "ages['age_group']: 將分組結果儲存在 ages['age_group'] 欄位中。 \n",
    "\"\"\""
   ]
  },
  {
   "cell_type": "code",
   "execution_count": null,
   "metadata": {},
   "outputs": [
    {
     "data": {
      "text/plain": [
       "customized_age_grp\n",
       "(20, 30]     6\n",
       "(30, 50]     3\n",
       "(50, 100]    3\n",
       "(0, 10]      2\n",
       "(10, 20]     2\n",
       "Name: count, dtype: int64"
      ]
     },
     "execution_count": 7,
     "metadata": {},
     "output_type": "execute_result"
    }
   ],
   "source": [
    "ages['customized_age_grp'].value_counts()\n",
    "\n",
    "\"\"\" \n",
    ".value_counts() 是一個用於計算 Series 或 DataFrame 中每個唯一值出現次數的 Pandas 方法。它可以幫助你快速了解資料的分佈情況。以下是一些常用的參數：\n",
    "\n",
    "normalize: * 布林值，預設為 False。\n",
    "如果設定為 True，則返回每個唯一值的相對頻率（比例），而不是計數。\n",
    "\n",
    "sort: * 布林值，預設為 True。\n",
    "如果設定為 True，則按降序排列結果，計數最多的值排在最前面。\n",
    "\n",
    "ascending: * 布林值，預設為 False。\n",
    "如果設定為 True，則按升序排列結果。\n",
    "\n",
    "bins: * 整數，可選。\n",
    "如果提供，則將資料分組到指定的 bins 數量的區間中，並返回每個區間的計數。\n",
    "僅適用於數值資料。\n",
    "\n",
    "dropna: * 布林值，預設為 True。\n",
    "如果設定為 True，則不計算缺失值（NaN）的出現次數。\n",
    " \"\"\""
   ]
  },
  {
   "cell_type": "markdown",
   "metadata": {},
   "source": [
    "#### 等寬劃分"
   ]
  },
  {
   "cell_type": "code",
   "execution_count": 8,
   "metadata": {
    "collapsed": true
   },
   "outputs": [],
   "source": [
    "# 新增欄位 \"equal_width_age\", 對年齡做等寬劃分\n",
    "ages[\"equal_width_age\"] = pd.cut(ages[\"age\"], 4)"
   ]
  },
  {
   "cell_type": "code",
   "execution_count": 9,
   "metadata": {},
   "outputs": [
    {
     "data": {
      "text/plain": [
       "equal_width_age\n",
       "(6.907, 30.25]    10\n",
       "(30.25, 53.5]      3\n",
       "(76.75, 100.0]     2\n",
       "(53.5, 76.75]      1\n",
       "Name: count, dtype: int64"
      ]
     },
     "execution_count": 9,
     "metadata": {},
     "output_type": "execute_result"
    }
   ],
   "source": [
    "# 觀察等寬劃分下, 每個種組距各出現幾次\n",
    "ages[\"equal_width_age\"].value_counts() # 每個 bin 的值的範圍大小都是一樣的"
   ]
  },
  {
   "cell_type": "markdown",
   "metadata": {},
   "source": [
    "#### 等頻劃分"
   ]
  },
  {
   "cell_type": "code",
   "execution_count": 10,
   "metadata": {
    "collapsed": true
   },
   "outputs": [],
   "source": [
    "# 新增欄位 \"equal_freq_age\", 對年齡做等頻劃分\n",
    "ages[\"equal_freq_age\"] = pd.qcut(ages[\"age\"], 4)"
   ]
  },
  {
   "cell_type": "code",
   "execution_count": 11,
   "metadata": {},
   "outputs": [
    {
     "data": {
      "text/plain": [
       "equal_freq_age\n",
       "(6.999, 20.25]    4\n",
       "(20.25, 26.0]     4\n",
       "(26.0, 42.0]      4\n",
       "(42.0, 100.0]     4\n",
       "Name: count, dtype: int64"
      ]
     },
     "execution_count": 11,
     "metadata": {},
     "output_type": "execute_result"
    }
   ],
   "source": [
    "# 觀察等頻劃分下, 每個種組距各出現幾次\n",
    "ages[\"equal_freq_age\"].value_counts() # 每個 bin 的資料筆數是一樣的"
   ]
  },
  {
   "cell_type": "code",
   "execution_count": null,
   "metadata": {
    "collapsed": true
   },
   "outputs": [],
   "source": []
  }
 ],
 "metadata": {
  "kernelspec": {
   "display_name": ".venv",
   "language": "python",
   "name": "python3"
  },
  "language_info": {
   "codemirror_mode": {
    "name": "ipython",
    "version": 3
   },
   "file_extension": ".py",
   "mimetype": "text/x-python",
   "name": "python",
   "nbconvert_exporter": "python",
   "pygments_lexer": "ipython3",
   "version": "3.8.3"
  }
 },
 "nbformat": 4,
 "nbformat_minor": 2
}
